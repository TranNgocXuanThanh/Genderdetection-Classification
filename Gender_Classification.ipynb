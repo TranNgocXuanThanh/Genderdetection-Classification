{
  "nbformat": 4,
  "nbformat_minor": 0,
  "metadata": {
    "colab": {
      "provenance": [],
      "authorship_tag": "ABX9TyOb4GUkqPfIWc/vzzACb4jD",
      "include_colab_link": true
    },
    "kernelspec": {
      "name": "python3",
      "display_name": "Python 3"
    },
    "language_info": {
      "name": "python"
    }
  },
  "cells": [
    {
      "cell_type": "markdown",
      "metadata": {
        "id": "view-in-github",
        "colab_type": "text"
      },
      "source": [
        "<a href=\"https://colab.research.google.com/github/TranNgocXuanThanh/Genderdetection-Classification/blob/main/Gender_Classification.ipynb\" target=\"_parent\"><img src=\"https://colab.research.google.com/assets/colab-badge.svg\" alt=\"Open In Colab\"/></a>"
      ]
    },
    {
      "cell_type": "code",
      "source": [
        "import pandas as pd\n",
        "import numpy as np\n",
        "import matplotlib.pyplot as plt\n",
        "import random\n",
        "\n",
        "dataset = pd.read_csv('/content/drive/MyDrive/genderdetection.csv',header = None).values\n",
        "dataset=dataset[1:,:]\n",
        "n,d=dataset.shape\n",
        "\n",
        "def train(dataset) :\n",
        "    for i in range(n) :\n",
        "        data=dataset[i,-1]\n",
        "        if(data=='Female') :\n",
        "            dataset[i,-1]=0\n",
        "        else :\n",
        "            dataset[i,-1]=1\n",
        "    return dataset\n",
        "dataset=train(dataset)\n",
        "dataset=dataset.astype(float)\n",
        "\n",
        "def train_test_split(X, n):\n",
        "    N, d = X.shape\n",
        "    test_temp = []\n",
        "    random_array = random.sample(range(N), n)\n",
        "    random_array.sort()\n",
        "    count = 0\n",
        "    for i in range(n):\n",
        "        test_temp.append(X[random_array[i] - count, :])\n",
        "        X = np.delete(X, (random_array[i] - count), axis=0)\n",
        "        count = count + 1\n",
        "    X_train = X[:, 0:d - 1].reshape(-1, d - 1)\n",
        "    y_train = X[:, d - 1].reshape(-1, 1)\n",
        "    test_temp1 = np.array(test_temp)\n",
        "    X_test = test_temp1[:, 0:d - 1].reshape(-1, d - 1)\n",
        "    y_test = test_temp1[:, d - 1].reshape(-1, 1)\n",
        "    return X_train, y_train, X_test, y_test\n",
        "\n",
        "def sigmoid_function(z):\n",
        "    return 1/(1 + np.exp(-z))\n",
        "\n",
        "def predict(x,theta):\n",
        "    temp = np.dot(x,theta)\n",
        "    return sigmoid_function(temp)\n",
        "\n",
        "def cost_function(theta,x,Y):\n",
        "    prediction = predict(x,theta)\n",
        "    loss_class1 = Y *np.log(prediction)\n",
        "    loss_class2 = (1-Y)*np.log(1-prediction)\n",
        "    loss = loss_class1 + loss_class2\n",
        "    return -1/n*np.sum(loss)\n",
        "\n",
        "def train(x,Y,theta,learning_rate,iters):\n",
        "    cost_his=[]\n",
        "    for i in range(iters):\n",
        "        y1 = predict(x,theta)\n",
        "        theta = theta - learning_rate*np.dot(x.T,(y1 - Y))/n\n",
        "        cost = cost_function(theta,x,Y)\n",
        "        cost_his.append(cost)\n",
        "    return cost_his, cost,theta\n",
        "\n",
        "def classify(X_test,theta):\n",
        "    pre = predict(X_test,theta)\n",
        "    y_test =[]\n",
        "    for i in pre:\n",
        "        if(i>=0.5): y_test.append(1)\n",
        "        else: y_test.append(0)\n",
        "    return y_test\n",
        "\n",
        "def acuracy(y_test,label):\n",
        "    count=0\n",
        "    for i in range(len(label)):\n",
        "        if y_test[i]==label[i] :\n",
        "            count=count+1\n",
        "    return (count*100/len(label))\n",
        "N = 1000\n",
        "X_train, y_train, X_test, y_test = train_test_split(dataset, N)\n",
        "x = np.hstack((np.ones((X_train.shape[0], 1)), X_train))\n",
        "\n",
        "learning_rate = 0.01\n",
        "iters = 10000\n",
        "theta = np.array([0.1] * x.shape[1]).reshape(x.shape[1], 1)\n",
        "cost_his, cost, theta = train(x, y_train, theta, learning_rate, iters)\n",
        "\n",
        "X_test_pre = np.hstack((np.ones((X_test.shape[0], 1)), X_test))\n",
        "y_test_pre = classify(X_test_pre, theta)\n",
        "print(\"The accuracy is : \",acuracy(y_test,y_test_pre),'%')"
      ],
      "metadata": {
        "colab": {
          "base_uri": "https://localhost:8080/"
        },
        "id": "7-ojPnM1-Iji",
        "outputId": "933b663a-fd37-42d2-df11-3fa869ae0561"
      },
      "execution_count": null,
      "outputs": [
        {
          "output_type": "stream",
          "name": "stdout",
          "text": [
            "The accuracy is :  100.0 %\n"
          ]
        }
      ]
    },
    {
      "cell_type": "code",
      "source": [],
      "metadata": {
        "id": "ELlyA6fcGXa7"
      },
      "execution_count": null,
      "outputs": []
    }
  ]
}